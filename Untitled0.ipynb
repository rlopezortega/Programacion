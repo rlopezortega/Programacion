{
  "nbformat": 4,
  "nbformat_minor": 0,
  "metadata": {
    "colab": {
      "provenance": [],
      "authorship_tag": "ABX9TyOlBMKO8NaanlB+Bi45wwwp",
      "include_colab_link": true
    },
    "kernelspec": {
      "name": "python3",
      "display_name": "Python 3"
    },
    "language_info": {
      "name": "python"
    }
  },
  "cells": [
    {
      "cell_type": "markdown",
      "metadata": {
        "id": "view-in-github",
        "colab_type": "text"
      },
      "source": [
        "<a href=\"https://colab.research.google.com/github/rlopezortega/Programacion/blob/main/Untitled0.ipynb\" target=\"_parent\"><img src=\"https://colab.research.google.com/assets/colab-badge.svg\" alt=\"Open In Colab\"/></a>"
      ]
    },
    {
      "cell_type": "code",
      "execution_count": 3,
      "metadata": {
        "colab": {
          "base_uri": "https://localhost:8080/"
        },
        "id": "ayYB40i5JB5C",
        "outputId": "c0eb0212-0a59-47b7-c025-d8197d7cc742"
      },
      "outputs": [
        {
          "output_type": "stream",
          "name": "stdout",
          "text": [
            "Hola món!\n"
          ]
        }
      ],
      "source": [
        "print(\"Hola món!\")\n"
      ]
    },
    {
      "cell_type": "code",
      "source": [
        "x=\"Hola món!\"\n",
        "print(\"Hola món!\")"
      ],
      "metadata": {
        "colab": {
          "base_uri": "https://localhost:8080/"
        },
        "id": "ZU1lB6gRLLX6",
        "outputId": "7f69233c-c34a-46b7-f33a-73845696841b"
      },
      "execution_count": 4,
      "outputs": [
        {
          "output_type": "stream",
          "name": "stdout",
          "text": [
            "Hola món!\n"
          ]
        }
      ]
    },
    {
      "cell_type": "code",
      "source": [
        "Pes_nines=75\n",
        "Pes_pallassos=112\n",
        "Nines_venudes=int(input(\"nº de nines venudes?\"))\n",
        "Pallassos_venuts=int(input(\"nº de pallassos venuts?\"))\n",
        "Total_nines=Nines_venudes*Pes_nines\n",
        "Total_pallassos=Pallassos_venuts*Pes_pallassos\n",
        "print(Total_nines+Total_pallassos)"
      ],
      "metadata": {
        "colab": {
          "base_uri": "https://localhost:8080/"
        },
        "id": "ElRvMWSnMzix",
        "outputId": "671e9da9-4005-47a8-91af-2985e036839a"
      },
      "execution_count": 14,
      "outputs": [
        {
          "output_type": "stream",
          "name": "stdout",
          "text": [
            "nº de nines venudes?10\n",
            "nº de pallassos venuts?5\n",
            "1310\n"
          ]
        }
      ]
    }
  ]
}