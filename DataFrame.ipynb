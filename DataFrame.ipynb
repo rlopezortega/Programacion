{
  "nbformat": 4,
  "nbformat_minor": 0,
  "metadata": {
    "colab": {
      "provenance": [],
      "authorship_tag": "ABX9TyN5JMrWALb9o1ShfSElBUG/",
      "include_colab_link": true
    },
    "kernelspec": {
      "name": "python3",
      "display_name": "Python 3"
    },
    "language_info": {
      "name": "python"
    }
  },
  "cells": [
    {
      "cell_type": "markdown",
      "metadata": {
        "id": "view-in-github",
        "colab_type": "text"
      },
      "source": [
        "<a href=\"https://colab.research.google.com/github/rlopezortega/Programacion/blob/main/DataFrame.ipynb\" target=\"_parent\"><img src=\"https://colab.research.google.com/assets/colab-badge.svg\" alt=\"Open In Colab\"/></a>"
      ]
    },
    {
      "cell_type": "code",
      "execution_count": null,
      "metadata": {
        "colab": {
          "base_uri": "https://localhost:8080/",
          "height": 332
        },
        "id": "TzRBVwxs9HHq",
        "outputId": "8929b3b7-0904-4816-b883-50d389f495b0"
      },
      "outputs": [
        {
          "output_type": "stream",
          "name": "stdout",
          "text": [
            "    Nombre  Edad  Aplicació  Ús aplicació\n",
            "0     Alex    19  Instagram             2\n",
            "1   Andrea    20    Tik Tok             3\n",
            "2   Selene    16  Instagram             4\n",
            "3   Judith    14   Whatsapp             7\n",
            "4     Hugo    17   Whatsapp             3\n",
            "5  Martina    18    Tik Tok             5\n"
          ]
        },
        {
          "output_type": "error",
          "ename": "AttributeError",
          "evalue": "'list' object has no attribute 'mean'",
          "traceback": [
            "\u001b[0;31m---------------------------------------------------------------------------\u001b[0m",
            "\u001b[0;31mAttributeError\u001b[0m                            Traceback (most recent call last)",
            "\u001b[0;32m<ipython-input-6-8b24efd63830>\u001b[0m in \u001b[0;36m<cell line: 17>\u001b[0;34m()\u001b[0m\n\u001b[1;32m     15\u001b[0m \u001b[0mprint\u001b[0m\u001b[0;34m(\u001b[0m\u001b[0mdataframe\u001b[0m\u001b[0;34m)\u001b[0m\u001b[0;34m\u001b[0m\u001b[0;34m\u001b[0m\u001b[0m\n\u001b[1;32m     16\u001b[0m \u001b[0;34m\u001b[0m\u001b[0m\n\u001b[0;32m---> 17\u001b[0;31m \u001b[0mmitja_de_ús_de_mòbil\u001b[0m \u001b[0;34m=\u001b[0m \u001b[0mdata\u001b[0m\u001b[0;34m[\u001b[0m\u001b[0;34m'Ús mòbil'\u001b[0m\u001b[0;34m]\u001b[0m\u001b[0;34m.\u001b[0m\u001b[0mmean\u001b[0m\u001b[0;34m(\u001b[0m\u001b[0;34m)\u001b[0m\u001b[0;34m\u001b[0m\u001b[0;34m\u001b[0m\u001b[0m\n\u001b[0m\u001b[1;32m     18\u001b[0m \u001b[0;34m\u001b[0m\u001b[0m\n\u001b[1;32m     19\u001b[0m \u001b[0mprint\u001b[0m\u001b[0;34m(\u001b[0m\u001b[0;34m\"La mitja d'ús de mòbil és:\"\u001b[0m\u001b[0;34m,\u001b[0m \u001b[0mmitja_de_ús_de_mòbil\u001b[0m\u001b[0;34m)\u001b[0m\u001b[0;34m\u001b[0m\u001b[0;34m\u001b[0m\u001b[0m\n",
            "\u001b[0;31mAttributeError\u001b[0m: 'list' object has no attribute 'mean'"
          ]
        }
      ],
      "source": [
        "import pandas as pd\n",
        "\n",
        "data = {\n",
        "    'Nombre': ['Alex', 'Andrea', 'Selene', 'Judith', 'Hugo', 'Martina'],\n",
        "    'Edad': [19, 20, 16, 14, 17, 18],\n",
        "    'Aplicació': [\"Instagram\", \"Tik Tok\", \"Instagram\", \"Whatsapp\", \"Whatsapp\", \"Tik Tok\"],\n",
        "    'Ús aplicació': [2, 3, 4, 7, 3, 5]\n",
        "}\n",
        "\n",
        "dataframe = pd.DataFrame(data)\n",
        "\n",
        "# Crear una nueva columna 'Edat2' sumando 2 a la columna 'Edad'\n",
        "data['Ús mòbil'] = [4, 5, 8, 10, 7, 8 ]\n",
        "\n",
        "print(dataframe)\n",
        "\n",
        "mitja_de_ús_de_mòbil = data['Ús mòbil'].mean().round(2)\n",
        "\n",
        "print(\"La mitja d'ús de mòbil és:\", mitja_de_ús_de_mòbil)\n",
        "\n"
      ]
    }
  ]
}