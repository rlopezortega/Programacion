{
  "nbformat": 4,
  "nbformat_minor": 0,
  "metadata": {
    "colab": {
      "provenance": [],
      "authorship_tag": "ABX9TyOlnB8uKkmJQ3+eQVlu0e4H",
      "include_colab_link": true
    },
    "kernelspec": {
      "name": "python3",
      "display_name": "Python 3"
    },
    "language_info": {
      "name": "python"
    }
  },
  "cells": [
    {
      "cell_type": "markdown",
      "metadata": {
        "id": "view-in-github",
        "colab_type": "text"
      },
      "source": [
        "<a href=\"https://colab.research.google.com/github/rlopezortega/Programacion/blob/main/Ex%C3%A0men.ipynb\" target=\"_parent\"><img src=\"https://colab.research.google.com/assets/colab-badge.svg\" alt=\"Open In Colab\"/></a>"
      ]
    },
    {
      "cell_type": "code",
      "execution_count": null,
      "metadata": {
        "colab": {
          "base_uri": "https://localhost:8080/",
          "height": 211
        },
        "id": "W-SqzRm7wvaB",
        "outputId": "567f8035-22de-4219-e947-99342da68256"
      },
      "outputs": [
        {
          "output_type": "error",
          "ename": "TypeError",
          "evalue": "'int' object is not callable",
          "traceback": [
            "\u001b[0;31m---------------------------------------------------------------------------\u001b[0m",
            "\u001b[0;31mTypeError\u001b[0m                                 Traceback (most recent call last)",
            "\u001b[0;32m<ipython-input-27-c1ad29318c06>\u001b[0m in \u001b[0;36m<cell line: 5>\u001b[0;34m()\u001b[0m\n\u001b[1;32m      3\u001b[0m \u001b[0mtotal_de_peres\u001b[0m\u001b[0;34m=\u001b[0m\u001b[0;36m8\u001b[0m\u001b[0;34m\u001b[0m\u001b[0;34m\u001b[0m\u001b[0m\n\u001b[1;32m      4\u001b[0m \u001b[0mtotal_de_dotzenes_de_pebrots\u001b[0m\u001b[0;34m=\u001b[0m\u001b[0;36m3\u001b[0m\u001b[0;34m\u001b[0m\u001b[0;34m\u001b[0m\u001b[0m\n\u001b[0;32m----> 5\u001b[0;31m \u001b[0mprint\u001b[0m\u001b[0;34m(\u001b[0m\u001b[0mtotal_de_dotzenes_de_pomes\u001b[0m\u001b[0;34m*\u001b[0m\u001b[0muna_dotzena\u001b[0m\u001b[0;34m+\u001b[0m\u001b[0mtotal_de_peres\u001b[0m\u001b[0;34m)\u001b[0m  \u001b[0;31m#Total de fruites\u001b[0m\u001b[0;34m\u001b[0m\u001b[0;34m\u001b[0m\u001b[0m\n\u001b[0m\u001b[1;32m      6\u001b[0m \u001b[0mprint\u001b[0m\u001b[0;34m(\u001b[0m\u001b[0mtotal_de_dotzenes_de_pomes\u001b[0m\u001b[0;34m*\u001b[0m\u001b[0muna_dotzena\u001b[0m\u001b[0;34m+\u001b[0m\u001b[0mtotal_de_peres\u001b[0m\u001b[0;34m+\u001b[0m\u001b[0;34m(\u001b[0m\u001b[0mtotal_de_dotzenes_de_pebrots\u001b[0m\u001b[0;34m*\u001b[0m\u001b[0muna_dotzena\u001b[0m\u001b[0;34m)\u001b[0m\u001b[0;34m)\u001b[0m \u001b[0;31m#Total de pecesuna_dotzena=12\u001b[0m\u001b[0;34m\u001b[0m\u001b[0;34m\u001b[0m\u001b[0m\n\u001b[1;32m      7\u001b[0m \u001b[0;34m\u001b[0m\u001b[0m\n",
            "\u001b[0;31mTypeError\u001b[0m: 'int' object is not callable"
          ]
        }
      ],
      "source": [
        "una_dotzena=12\n",
        "total_de_dotzenes_de_pomes=5\n",
        "total_de_peres=8\n",
        "total_de_dotzenes_de_pebrots=3\n",
        "print(total_de_dotzenes_de_pomes*una_dotzena+total_de_peres)  #Total de fruites\n",
        "print(total_de_dotzenes_de_pomes*una_dotzena+total_de_peres+(total_de_dotzenes_de_pebrots*una_dotzena)) #Total de pecesuna_dotzena=12\n",
        "\n",
        "\n"
      ]
    },
    {
      "cell_type": "code",
      "source": [
        "mitjana_de_alumnes_a_eso=30\n",
        "mitjana_de_alumnes_b_eso=30\n",
        "mitjana_de_alumnes_c_eso=30\n",
        "mitjana_de_alumnes_a_batxillerat=25\n",
        "mitjana_de_alumnes_b_batxillerat=25\n",
        "print(mitjana_de_alumnes_a_eso+mitjana_de_alumnes_b_eso+mitjana_de_alumnes_c_eso+mitjana_de_alumnes_a_batxillerat+mitjana_de_alumnes_b_batxillerat)\n",
        "\n",
        "\n",
        "\n"
      ],
      "metadata": {
        "id": "_h7EGU0v0bU6",
        "colab": {
          "base_uri": "https://localhost:8080/",
          "height": 211
        },
        "outputId": "3c10dbf7-c0ce-4cbf-f1b5-ea40edb0d7e3"
      },
      "execution_count": null,
      "outputs": [
        {
          "output_type": "error",
          "ename": "TypeError",
          "evalue": "'int' object is not callable",
          "traceback": [
            "\u001b[0;31m---------------------------------------------------------------------------\u001b[0m",
            "\u001b[0;31mTypeError\u001b[0m                                 Traceback (most recent call last)",
            "\u001b[0;32m<ipython-input-28-3bf3c6a1da13>\u001b[0m in \u001b[0;36m<cell line: 6>\u001b[0;34m()\u001b[0m\n\u001b[1;32m      4\u001b[0m \u001b[0mmitjana_de_alumnes_a_batxillerat\u001b[0m\u001b[0;34m=\u001b[0m\u001b[0;36m25\u001b[0m\u001b[0;34m\u001b[0m\u001b[0;34m\u001b[0m\u001b[0m\n\u001b[1;32m      5\u001b[0m \u001b[0mmitjana_de_alumnes_b_batxillerat\u001b[0m\u001b[0;34m=\u001b[0m\u001b[0;36m25\u001b[0m\u001b[0;34m\u001b[0m\u001b[0;34m\u001b[0m\u001b[0m\n\u001b[0;32m----> 6\u001b[0;31m \u001b[0mprint\u001b[0m\u001b[0;34m(\u001b[0m\u001b[0mmitjana_de_alumnes_a_eso\u001b[0m\u001b[0;34m+\u001b[0m\u001b[0mmitjana_de_alumnes_b_eso\u001b[0m\u001b[0;34m+\u001b[0m\u001b[0mmitjana_de_alumnes_c_eso\u001b[0m\u001b[0;34m+\u001b[0m\u001b[0mmitjana_de_alumnes_a_batxillerat\u001b[0m\u001b[0;34m+\u001b[0m\u001b[0mmitjana_de_alumnes_b_batxillerat\u001b[0m\u001b[0;34m)\u001b[0m\u001b[0;34m\u001b[0m\u001b[0;34m\u001b[0m\u001b[0m\n\u001b[0m\u001b[1;32m      7\u001b[0m \u001b[0;34m\u001b[0m\u001b[0m\n\u001b[1;32m      8\u001b[0m \u001b[0;34m\u001b[0m\u001b[0m\n",
            "\u001b[0;31mTypeError\u001b[0m: 'int' object is not callable"
          ]
        }
      ]
    }
  ]
}