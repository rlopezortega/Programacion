{
  "nbformat": 4,
  "nbformat_minor": 0,
  "metadata": {
    "colab": {
      "provenance": [],
      "authorship_tag": "ABX9TyOqGocmn8AAp0jaMJBhRTjH",
      "include_colab_link": true
    },
    "kernelspec": {
      "name": "python3",
      "display_name": "Python 3"
    },
    "language_info": {
      "name": "python"
    }
  },
  "cells": [
    {
      "cell_type": "markdown",
      "metadata": {
        "id": "view-in-github",
        "colab_type": "text"
      },
      "source": [
        "<a href=\"https://colab.research.google.com/github/rlopezortega/Programacion/blob/main/Untitled1.ipynb\" target=\"_parent\"><img src=\"https://colab.research.google.com/assets/colab-badge.svg\" alt=\"Open In Colab\"/></a>"
      ]
    },
    {
      "cell_type": "code",
      "execution_count": null,
      "metadata": {
        "id": "a-rnPCLDqJkl"
      },
      "outputs": [],
      "source": [
        "x=10\n",
        "print(type(x))"
      ]
    },
    {
      "cell_type": "code",
      "source": [
        "x=1.5\n",
        "print(type(x))"
      ],
      "metadata": {
        "id": "Da0tQCtFqMvO"
      },
      "execution_count": null,
      "outputs": []
    },
    {
      "cell_type": "markdown",
      "source": [
        "Una tupla es una estructura de datos ligera que tiene un número específico y una secuencia de valores. Al crear una instancia de la tupla, se define el número y el tipo de datos de cada valor (o elemento). Por ejemplo, una tupla de 2 (o par) tiene dos elementos."
      ],
      "metadata": {
        "id": "Zoor5EfinBvA"
      }
    },
    {
      "cell_type": "code",
      "source": [
        "x=1,5\n",
        "print(type(x))"
      ],
      "metadata": {
        "id": "S0ig_yPNqQaP"
      },
      "execution_count": null,
      "outputs": []
    },
    {
      "cell_type": "code",
      "source": [
        "nines = input(\"Quantes nines tinc?\")\n",
        "print(nines)"
      ],
      "metadata": {
        "id": "PjxUZK0WnKHo"
      },
      "execution_count": null,
      "outputs": []
    },
    {
      "cell_type": "code",
      "source": [
        "nines = input(\"Quantes nines tinc?\")\n",
        "print(nines)\n",
        "print(type(nines))"
      ],
      "metadata": {
        "id": "MRXc1e8cnTmT"
      },
      "execution_count": null,
      "outputs": []
    },
    {
      "cell_type": "code",
      "source": [
        "nines=int(input(\"Quantes nines tinc?\"))\n",
        "print(nines)"
      ],
      "metadata": {
        "colab": {
          "base_uri": "https://localhost:8080/"
        },
        "id": "oQeuKzuenVKx",
        "outputId": "600e2dce-5094-4f18-c57b-98055094e33d"
      },
      "execution_count": null,
      "outputs": [
        {
          "output_type": "stream",
          "name": "stdout",
          "text": [
            "Quantes nines tinc?2\n",
            "2\n"
          ]
        }
      ]
    },
    {
      "cell_type": "markdown",
      "source": [
        "·Pregunta-li a la variable mitjançant el type, quin tipus de funció és.\n",
        "\n",
        "·Un cop li hagis preguntat, si la resposta és un número sencer cal que sigui: \"Escriu el nombre amb un número no sencer o decimal\", sinó caldrà que imprimeixi el valor nines.\n",
        "\n",
        "·Fes un diagrama de flux per a parlar de la compra de llibres, punts de llibre i portallibres, tenint en compte que el preu de tots els llibres són 5€, els punts de llibres 1,5€ i els portallibres 10€"
      ],
      "metadata": {
        "id": "SVUJNojHnXxK"
      }
    },
    {
      "cell_type": "code",
      "source": [
        "llibres = float(input(\"Quants llibres compres?\"))\n",
        "punts_de_llibre = float(input(\"Quants punts de llibres compres?\"))\n",
        "portallibres = float(input(\"Quants portallibres llibres compres?\"))\n",
        "\n",
        "preu = ((llibres*5) + (punts_de_llibre*1.5) + (portallibres*10))\n",
        "if (preu%1==0):\n",
        "  print(\"Cal que el valor sigui float\")\n",
        "else:\n",
        "  print(\"El preu final serà\", preu)"
      ],
      "metadata": {
        "colab": {
          "base_uri": "https://localhost:8080/"
        },
        "id": "BJVcH6jBnwT0",
        "outputId": "26c3c2a1-b139-48ff-b853-4ab6b9d0d8b0"
      },
      "execution_count": null,
      "outputs": [
        {
          "output_type": "stream",
          "name": "stdout",
          "text": [
            "Quants llibres compres?10\n",
            "Quants punts de llibres compres?3\n",
            "Quants portallibres llibres compres?17\n",
            "El preu final serà 224.5\n"
          ]
        }
      ]
    },
    {
      "cell_type": "markdown",
      "source": [
        "1.Vull que calculeu la superfície d’un quadrat coneixent solament un costat"
      ],
      "metadata": {
        "id": "Cg6bAbCNqzec"
      }
    },
    {
      "cell_type": "code",
      "source": [
        "costat_del_quadrat = int(input(\"Quant fa un costat?\"))\n",
        "superfície =int(costat_del_quadrat*costat_del_quadrat)\n",
        "print(\"La superfície de un cuadrat és\",superfície)"
      ],
      "metadata": {
        "colab": {
          "base_uri": "https://localhost:8080/"
        },
        "id": "HaScTodCq1Pk",
        "outputId": "692175ff-53ee-43d2-e17a-6c1e2e0f395a"
      },
      "execution_count": null,
      "outputs": [
        {
          "output_type": "stream",
          "name": "stdout",
          "text": [
            "Quant fa un costat?6\n",
            "La superfície de un cuadrat és 36\n"
          ]
        }
      ]
    },
    {
      "cell_type": "markdown",
      "source": [
        "2. Hem de realitzar el càlcul d’un perímetre al quadrat"
      ],
      "metadata": {
        "id": "H6bDMuoxSQE8"
      }
    },
    {
      "cell_type": "code",
      "source": [
        "un_costat= int(input(\"Quant fa un costat?\"))\n",
        "perímetre =int(un_costat*4)\n",
        "print(\"El perímetre és\",perímetre)"
      ],
      "metadata": {
        "colab": {
          "base_uri": "https://localhost:8080/"
        },
        "id": "q9LBuWtLSCBr",
        "outputId": "584cb2d6-c178-4315-ee79-1904c3974a76"
      },
      "execution_count": null,
      "outputs": [
        {
          "output_type": "stream",
          "name": "stdout",
          "text": [
            "Quant fa un costat?6\n",
            "El perímetre és 24\n"
          ]
        }
      ]
    },
    {
      "cell_type": "markdown",
      "source": [
        "3. Inventa 4 variables : suma de tot\n",
        "                         suma dels dos primers\n",
        "                         suma dos últims\n",
        "                         producte 2 sumes\n"
      ],
      "metadata": {
        "id": "S4X4UL_5TgNa"
      }
    },
    {
      "cell_type": "code",
      "source": [
        "primera_variable=int(input(\"Quina és la primera variable?\"))\n",
        "segona_variable=int(input(\"Quina és la segona variable?\"))\n",
        "tercera_variable=int(input(\"Quina és la tercera variable?\"))\n",
        "quarta_variable=int(input(\"Quina és la quarta variable?\"))\n",
        "suma_total=int(primera_variable+segona_variable+tercera_variable+quarta_variable)\n",
        "print(\"La suma te totes les variables és\",suma_total)\n",
        "suma_dels_dos_primers=int(primera_variable+segona_variable)\n",
        "print(\"La suma de les primeres variables és\",suma_dels_dos_primers)\n",
        "suma_dels_dos_últims=int(tercera_variable+quarta_variable)\n",
        "print(\"La suma de les dos últimes variables és\",suma_dels_dos_últims)\n",
        "producte_de_les_dos_sumes=int(suma_dels_dos_primers*suma_dels_dos_últims)\n",
        "print(\"El producte de les dos últimes sumes és\",producte_de_les_dos_sumes)"
      ],
      "metadata": {
        "colab": {
          "base_uri": "https://localhost:8080/"
        },
        "id": "IJTXIAo6TydH",
        "outputId": "658dd2fb-bf91-4851-847d-a97c1fc77209"
      },
      "execution_count": null,
      "outputs": [
        {
          "output_type": "stream",
          "name": "stdout",
          "text": [
            "Quina és la primera variable?1\n",
            "Quina és la segona variable?4\n",
            "Quina és la tercera variable?3\n",
            "Quina és la quarta variable?2\n",
            "La suma te totes les variables és 10\n",
            "La suma de les primeres variables és 5\n",
            "La suma de les dos últimes variables és 5\n",
            "El producte de les dos últimes sumes és 25\n"
          ]
        }
      ]
    },
    {
      "cell_type": "markdown",
      "source": [
        "4 variables que se sumin entre elles i fes la mitjana\n"
      ],
      "metadata": {
        "id": "twQinzsLvKYI"
      }
    },
    {
      "cell_type": "code",
      "source": [
        "primera_variable=int(input(\"Quina és la primera variable?\"))\n",
        "segona_variable=int(input(\"Quina és la segona variable?\"))\n",
        "tercera_variable=int(input(\"Quina és la tercera variable?\"))\n",
        "quarta_variable=int(input(\"Quina és la quarta variable?\"))\n",
        "suma_total=int(primera_variable+segona_variable+tercera_variable+quarta_variable)\n",
        "print(\"La suma te totes les variables és\",suma_total)\n",
        "mitjana=int(suma_total/4)\n",
        "print(\"La mitjana és\",mitjana)"
      ],
      "metadata": {
        "colab": {
          "base_uri": "https://localhost:8080/"
        },
        "id": "__wu7b63uTEb",
        "outputId": "77470637-ccae-427b-b908-49d00af10269"
      },
      "execution_count": null,
      "outputs": [
        {
          "output_type": "stream",
          "name": "stdout",
          "text": [
            "Quina és la primera variable?2\n",
            "Quina és la segona variable?8\n",
            "Quina és la tercera variable?9\n",
            "Quina és la quarta variable?3\n",
            "La suma te totes les variables és 22\n",
            "La mitjana és 5\n"
          ]
        }
      ]
    },
    {
      "cell_type": "markdown",
      "source": [
        "fes una variable que pregunti el sou d’una persona, i si el seu sou és superior als 2000€, cal que es mostri un missatge a la pantalla que digui “que a de pagar un 15% IRPF”"
      ],
      "metadata": {
        "id": "Kg5aSvEKvOrz"
      }
    },
    {
      "cell_type": "code",
      "source": [
        "sou_persona=int(input(\"Quin és el teu sou?\"))\n",
        "if(sou_persona>2000):\n",
        "  print(\"Has de pagar un 15% IRPF\")"
      ],
      "metadata": {
        "colab": {
          "base_uri": "https://localhost:8080/"
        },
        "id": "vteT4Vmdvn6K",
        "outputId": "810e0eff-2e58-42e3-f3a5-45844777e66c"
      },
      "execution_count": null,
      "outputs": [
        {
          "output_type": "stream",
          "name": "stdout",
          "text": [
            "Quin és el teu sou?3000\n",
            "Has de pagar un 15% IRPF\n"
          ]
        }
      ]
    },
    {
      "cell_type": "markdown",
      "source": [
        " heu de posar dues variables amb valors diferents i cal que surti a la pantalla el que es superior\n"
      ],
      "metadata": {
        "id": "9Ur3dJ0Mzeb7"
      }
    },
    {
      "cell_type": "code",
      "source": [
        "print(\"Posa dos variables diferens\")\n",
        "primera_variable=int(input(\"Quina és la primera variable?\"))\n",
        "segona_variable=int(input(\"Quina és la segona variable?\"))\n",
        "if(primera_variable>segona_variable):\n",
        "  print(\"La primera variable és més gran\")\n",
        "else:\n",
        "  print(\"La segona variables és més gran\")"
      ],
      "metadata": {
        "colab": {
          "base_uri": "https://localhost:8080/"
        },
        "id": "k1_u1WogzhuL",
        "outputId": "40dfcc78-8722-4341-9add-09152f8dfebf"
      },
      "execution_count": null,
      "outputs": [
        {
          "output_type": "stream",
          "name": "stdout",
          "text": [
            "Posa dos variables diferens\n",
            "Quina és la primera variable?37\n",
            "Quina és la segona variable?79\n",
            "La segona variables és més gran\n"
          ]
        }
      ]
    },
    {
      "cell_type": "markdown",
      "source": [
        " imaginemos que teniu una nómina de 2950€ cal que feu que pagui a l’estat un 20% d’impostos. Un cop hagi fet això, cal que pagueu les factures del gas (70€) i l’aigua (55€). A banda, cal pagar el pis  (1000€) cuants diners le quedaran a aquesta persona per sobreviure?Si el resultat del import es de inferior a 1000€ cal que printeu (compte!). si es superior a mil (has tingut sort)\n"
      ],
      "metadata": {
        "id": "OxQe7nEo46A1"
      }
    },
    {
      "cell_type": "code",
      "source": [
        "nomina=2950\n",
        "impostos=int((nomina*20)/100)\n",
        "print(\"Has de pagar a l'estat\",impostos)\n",
        "queda_sense_impostos=int(nomina-impostos)\n",
        "print(\"Et queda\",queda_sense_impostos)\n",
        "pagar_gas=int(queda_sense_impostos-70)\n",
        "print(\"Has pagat 70€ de gas, i et queda\",pagar_gas,\"€\")\n",
        "pagar_aigua=int(pagar_gas-55)\n",
        "print(\"Has pagat 55€ d'aigua, i et queden\",pagar_aigua,\"€\")\n",
        "pagar_pis=int(pagar_aigua-1000)\n",
        "print(\"Has pagat 1000€ del pis, i et queda\",pagar_pis,\"€\")\n",
        "if(pagar_pis<1000):\n",
        "  print(\"Compte!\")\n",
        "else:\n",
        "  print(\"Has tingut sort\")"
      ],
      "metadata": {
        "colab": {
          "base_uri": "https://localhost:8080/"
        },
        "id": "eYEV6zB5rFiT",
        "outputId": "e34b9d90-b996-4852-9a98-777763230b73"
      },
      "execution_count": null,
      "outputs": [
        {
          "output_type": "stream",
          "name": "stdout",
          "text": [
            "Has de pagar a l'estat 543\n",
            "Et queda 2172\n",
            "Has pagat 70€ de gas, i et queda 2102 €\n",
            "Has pagat 55€ d'aigua, i et queden 2047 €\n",
            "Has pagat 1000€ del pis, i et queda 1047 €\n",
            "Has tingut sort\n"
          ]
        }
      ]
    },
    {
      "cell_type": "markdown",
      "source": [
        "Li heu de demanar a un alumne que et doni 3 notes, que calculi la mitjana de les 3 notes. Si és més gran o igual que 7, que supera la mitja,\n",
        "si esta entre 4 i 7, que vigili, i\n",
        "si esta per sota de 4 que ha suspès i que ha d’intentar recuperar\n"
      ],
      "metadata": {
        "id": "WCJelxdtxfc8"
      }
    },
    {
      "cell_type": "code",
      "source": [
        "print(\"M'has de dir les teves tres notes\")\n",
        "primera_nota=int(input(\"Quina és la primera nota?\"))\n",
        "segona_nota=int(input(\"Quina és la segona nota?\"))\n",
        "tercera_nota=int(input(\"Quina és la tercera nota?\"))\n",
        "suma_notes=int(primera_nota+segona_nota+tercera_nota)\n",
        "\n",
        "mitjana=int(suma_notes/3)\n",
        "\n",
        "if mitjana >= 7:\n",
        "    resultat = \"Has superat la mitjana!\"\n",
        "elif 4 <= mitjana < 7:\n",
        "    resultat = \"Vigila!\"\n",
        "else:\n",
        "    resultat = \"Has suspès i has d'intentar recuperar.\"\n",
        "\n",
        "print(f\"La mitjana és: {mitjana:.2f}\")\n",
        "print(resultat)\n"
      ],
      "metadata": {
        "colab": {
          "base_uri": "https://localhost:8080/"
        },
        "id": "yPHiJ51kyxyp",
        "outputId": "578741b4-c62d-4614-9990-dda824ee4f17"
      },
      "execution_count": null,
      "outputs": [
        {
          "output_type": "stream",
          "name": "stdout",
          "text": [
            "M'has de dir les teves tres notes\n",
            "Quina és la primera nota?3\n",
            "Quina és la segona nota?3\n",
            "Quina és la tercera nota?3\n",
            "La mitjana és: 3.00\n",
            "Has suspès i has d'intentar recuperar.\n"
          ]
        }
      ]
    },
    {
      "cell_type": "markdown",
      "source": [
        "li demanem tres numeros random, i ens ha de mostrar el superior en pantalla. (dificil=cadena gran petit)"
      ],
      "metadata": {
        "id": "3AiejPxaMOgD"
      }
    },
    {
      "cell_type": "code",
      "source": [
        "import random\n",
        "\n",
        "num1 = random.randint(1, 100)\n",
        "num2 = random.randint(1, 100)\n",
        "num3 = random.randint(1, 100)\n",
        "\n",
        "max_num = max(num1, num2, num3)\n",
        "\n",
        "print(f\"Números generats: {num1}, {num2}, {num3}\")\n",
        "print(f\"El número més gran és: {max_num}\")"
      ],
      "metadata": {
        "colab": {
          "base_uri": "https://localhost:8080/"
        },
        "id": "X58eJfHaUXkL",
        "outputId": "ef1a6bb5-d591-43ec-f14e-2db4db102add"
      },
      "execution_count": null,
      "outputs": [
        {
          "output_type": "stream",
          "name": "stdout",
          "text": [
            "Números generats: 26, 16, 13\n",
            "El número més gran és: 26\n"
          ]
        }
      ]
    },
    {
      "cell_type": "markdown",
      "source": [
        "\n",
        "us ha de demanar que posem un valor, i que ens digui si es postiu, negatiu o 0\n",
        "\n",
        "\n"
      ],
      "metadata": {
        "id": "8SHkkF1UVEk1"
      }
    },
    {
      "cell_type": "code",
      "source": [
        "valor = float(input(\"Introdueix un valor: \"))\n",
        "\n",
        "if valor > 0:\n",
        "    resultat = \"El valor és positiu.\"\n",
        "elif valor < 0:\n",
        "    resultat = \"El valor és negatiu.\"\n",
        "else:\n",
        "    resultat = \"El valor és zero.\"\n",
        "\n",
        "print(resultat)"
      ],
      "metadata": {
        "colab": {
          "base_uri": "https://localhost:8080/"
        },
        "id": "rGzqlvN4VE41",
        "outputId": "f8c71499-997f-4ec1-ae51-6885f8b65e69"
      },
      "execution_count": null,
      "outputs": [
        {
          "output_type": "stream",
          "name": "stdout",
          "text": [
            "Introdueix un valor: 0\n",
            "El valor és zero.\n"
          ]
        }
      ]
    },
    {
      "cell_type": "markdown",
      "source": [
        "generador de contrasenyes - 7 condicionants"
      ],
      "metadata": {
        "id": "OBqwrL84WNhm"
      }
    },
    {
      "cell_type": "code",
      "source": [
        "import random\n",
        "def generar_contrasena(longitud):\n",
        "  letras_mayusculas -\"ABCDE FGHI JKLMNOPORSTUVIXYZ\"\n",
        "  letras_minusculas -\"abcdefghijklanopqrstuvxyz\"\n",
        "  numeros = \"0123456789\"\n",
        "  caracteres_especiales - \"!@#$%^&*()-_=+[]{}|;:,.<>?/\"\n",
        "  contrasena = [\n",
        "      letras_mayusculas[random.randint(0, len(letras_mayusculas) - 1)],\n",
        "      letras_minusculas[random.randint(0, len(letras_minusculas) - 1)],\n",
        "      numeros[random.randint(0, len(numeros) - 1)],\n",
        "      caracteres_especiales[random.randint(0, len(aracteres_especiales) - 1)],\n",
        "  ]\n",
        "  todos_caracteres -(\n",
        "      letras_mayusculas +\n",
        "      letras_minusculas +\n",
        "      numeros +\n",
        "      caracteres_especiales * 3\n",
        "  )\n",
        "  for _ in range(longitud - 4):\n",
        "    contrasena.append(todos_caracteres[random.randint(0, len(todos_caracteres) - 1)])\n",
        "  random. shuffle(contrasena)\n",
        "  return ''.join(contrasena)\n",
        "longitud - int(input(\"Introduce la longitud de la contraseña (mínimo 4): \"))\n",
        "if longitud >= 4:\n",
        "  print (\"Contraseña generada:\", generar_contrasena(longitud))\n",
        "else:\n",
        "  print(\"La longitud debe ser al menos 4 caracteres.\")"
      ],
      "metadata": {
        "colab": {
          "base_uri": "https://localhost:8080/",
          "height": 211
        },
        "id": "DEXuzm9WWOgr",
        "outputId": "7861078d-d529-42ea-b06c-5678ac92017b"
      },
      "execution_count": 11,
      "outputs": [
        {
          "output_type": "error",
          "ename": "NameError",
          "evalue": "name 'longitud' is not defined",
          "traceback": [
            "\u001b[0;31m---------------------------------------------------------------------------\u001b[0m",
            "\u001b[0;31mNameError\u001b[0m                                 Traceback (most recent call last)",
            "\u001b[0;32m<ipython-input-11-d0172f1469e7>\u001b[0m in \u001b[0;36m<cell line: 23>\u001b[0;34m()\u001b[0m\n\u001b[1;32m     21\u001b[0m   \u001b[0mrandom\u001b[0m\u001b[0;34m.\u001b[0m \u001b[0mshuffle\u001b[0m\u001b[0;34m(\u001b[0m\u001b[0mcontrasena\u001b[0m\u001b[0;34m)\u001b[0m\u001b[0;34m\u001b[0m\u001b[0;34m\u001b[0m\u001b[0m\n\u001b[1;32m     22\u001b[0m   \u001b[0;32mreturn\u001b[0m \u001b[0;34m''\u001b[0m\u001b[0;34m.\u001b[0m\u001b[0mjoin\u001b[0m\u001b[0;34m(\u001b[0m\u001b[0mcontrasena\u001b[0m\u001b[0;34m)\u001b[0m\u001b[0;34m\u001b[0m\u001b[0;34m\u001b[0m\u001b[0m\n\u001b[0;32m---> 23\u001b[0;31m \u001b[0mlongitud\u001b[0m \u001b[0;34m-\u001b[0m \u001b[0mint\u001b[0m\u001b[0;34m(\u001b[0m\u001b[0minput\u001b[0m\u001b[0;34m(\u001b[0m\u001b[0;34m\"Introduce la longitud de la contraseña (mínimo 4): \"\u001b[0m\u001b[0;34m)\u001b[0m\u001b[0;34m)\u001b[0m\u001b[0;34m\u001b[0m\u001b[0;34m\u001b[0m\u001b[0m\n\u001b[0m\u001b[1;32m     24\u001b[0m \u001b[0;32mif\u001b[0m \u001b[0mlongitud\u001b[0m \u001b[0;34m>=\u001b[0m \u001b[0;36m4\u001b[0m\u001b[0;34m:\u001b[0m\u001b[0;34m\u001b[0m\u001b[0;34m\u001b[0m\u001b[0m\n\u001b[1;32m     25\u001b[0m   \u001b[0mprint\u001b[0m \u001b[0;34m(\u001b[0m\u001b[0;34m\"Contraseña generada:\"\u001b[0m\u001b[0;34m,\u001b[0m \u001b[0mgenerar_contrasena\u001b[0m\u001b[0;34m(\u001b[0m\u001b[0mlongitud\u001b[0m\u001b[0;34m)\u001b[0m\u001b[0;34m)\u001b[0m\u001b[0;34m\u001b[0m\u001b[0;34m\u001b[0m\u001b[0m\n",
            "\u001b[0;31mNameError\u001b[0m: name 'longitud' is not defined"
          ]
        }
      ]
    }
  ]
}