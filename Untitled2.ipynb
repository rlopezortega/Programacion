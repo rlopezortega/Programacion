{
  "nbformat": 4,
  "nbformat_minor": 0,
  "metadata": {
    "colab": {
      "provenance": [],
      "authorship_tag": "ABX9TyOn9pd8cPK2zRdOwuMu8Fd6",
      "include_colab_link": true
    },
    "kernelspec": {
      "name": "python3",
      "display_name": "Python 3"
    },
    "language_info": {
      "name": "python"
    }
  },
  "cells": [
    {
      "cell_type": "markdown",
      "metadata": {
        "id": "view-in-github",
        "colab_type": "text"
      },
      "source": [
        "<a href=\"https://colab.research.google.com/github/rlopezortega/Programacion/blob/main/Untitled2.ipynb\" target=\"_parent\"><img src=\"https://colab.research.google.com/assets/colab-badge.svg\" alt=\"Open In Colab\"/></a>"
      ]
    },
    {
      "cell_type": "code",
      "execution_count": null,
      "metadata": {
        "colab": {
          "base_uri": "https://localhost:8080/"
        },
        "id": "N3UWBvufGIBb",
        "outputId": "55679ba8-468a-4518-d049-d138a2c05561"
      },
      "outputs": [
        {
          "output_type": "stream",
          "name": "stdout",
          "text": [
            "['llet', 'pa', 'peix', 'nutella', '4', '15', 'cervesa']\n",
            "peix\n",
            "cervesa\n",
            "['pa', 'peix', 'nutella', '4', '15', 'cervesa']\n"
          ]
        }
      ],
      "source": [
        "llista = [\"llet\" , \"pa\" , \"peix\" , \"nutella\" , \"4\" , \"15\" , \"cervesa\"]\n",
        "\n",
        "print(llista)\n",
        "print(llista[2])\n",
        "print(llista[6])\n",
        "\n",
        "llista.remove(\"llet\") #Para eliminar algo\n",
        "print(llista)\n"
      ]
    },
    {
      "cell_type": "code",
      "source": [
        "llista = [\"llet\" , \"pa\" , \"peix\" , \"nutella\" , \"4\" , \"15\" , \"cervesa\"]\n",
        "\n",
        "llista.pop (2)\n",
        "print(llista)\n",
        "\n",
        "llista.append(\"chupa chups\")\n",
        "print(llista)\n",
        "\n",
        "str(llista.sort())\n",
        "print(llista)\n",
        "len(llista)"
      ],
      "metadata": {
        "colab": {
          "base_uri": "https://localhost:8080/"
        },
        "id": "iiJB3zhKL_0w",
        "outputId": "555948b2-71d9-4ad8-beec-a88f9191ff72"
      },
      "execution_count": null,
      "outputs": [
        {
          "output_type": "stream",
          "name": "stdout",
          "text": [
            "['llet', 'pa', 'nutella', '4', '15', 'cervesa']\n",
            "['llet', 'pa', 'nutella', '4', '15', 'cervesa', 'chupa chups']\n",
            "['15', '4', 'cervesa', 'chupa chups', 'llet', 'nutella', 'pa']\n"
          ]
        },
        {
          "output_type": "execute_result",
          "data": {
            "text/plain": [
              "7"
            ]
          },
          "metadata": {},
          "execution_count": 2
        }
      ]
    },
    {
      "cell_type": "code",
      "source": [
        "setmana = [\"dilluns\" , \"dimarts\" , \"dimecres\" , \"divendres\"]\n",
        "\n",
        "print(setmana)\n",
        "\n",
        "setmana.append(\"dissabte\")\n",
        "setmana.append(\"diumenge\")\n",
        "print(setmana)\n",
        "\n",
        "setmana.insert(3, \"dijous\")\n",
        "print(setmana)\n",
        "\n",
        "setmana.append(\"divendres\")\n",
        "setmana.append(\"divendres\")\n",
        "print(setmana)\n",
        "\n",
        "x=setmana.count(\"divendres\")\n",
        "print(x)\n",
        "\n",
        "setmana.pop(8)\n",
        "setmana.pop(7)\n",
        "print(setmana)\n",
        "\n",
        "print(\"El numero de divendres que hi habia abans de borrar-los eran:\", (x)) #Aunque ponga la coma no sale"
      ],
      "metadata": {
        "colab": {
          "base_uri": "https://localhost:8080/"
        },
        "id": "bV4oC1k_qVGT",
        "outputId": "87eebdb5-f5f2-4897-c361-d168f7cba759"
      },
      "execution_count": null,
      "outputs": [
        {
          "output_type": "stream",
          "name": "stdout",
          "text": [
            "['dilluns', 'dimarts', 'dimecres', 'divendres']\n",
            "['dilluns', 'dimarts', 'dimecres', 'divendres', 'dissabte', 'diumenge']\n",
            "['dilluns', 'dimarts', 'dimecres', 'dijous', 'divendres', 'dissabte', 'diumenge']\n",
            "['dilluns', 'dimarts', 'dimecres', 'dijous', 'divendres', 'dissabte', 'diumenge', 'divendres', 'divendres']\n",
            "3\n",
            "['dilluns', 'dimarts', 'dimecres', 'dijous', 'divendres', 'dissabte', 'diumenge']\n",
            "El numero de divendres que hi habia abans de borrar-los eran: 3\n"
          ]
        }
      ]
    },
    {
      "cell_type": "code",
      "source": [
        "x= range(3,20,2)\n",
        "for i in x:\n",
        "  print(i)"
      ],
      "metadata": {
        "id": "r9kAa5qsz-mT",
        "colab": {
          "base_uri": "https://localhost:8080/"
        },
        "outputId": "4024137e-1fa6-4916-bac8-28e803dca7b4"
      },
      "execution_count": null,
      "outputs": [
        {
          "output_type": "stream",
          "name": "stdout",
          "text": [
            "3\n",
            "5\n",
            "7\n",
            "9\n",
            "11\n",
            "13\n",
            "15\n",
            "17\n",
            "19\n"
          ]
        }
      ]
    },
    {
      "cell_type": "code",
      "source": [
        "x= range(32,18,-2)\n",
        "for i in x:\n",
        "  print(i)"
      ],
      "metadata": {
        "colab": {
          "base_uri": "https://localhost:8080/"
        },
        "id": "9eBMbPq9L1rv",
        "outputId": "b6e07aab-45a1-48da-9170-f286a07f7abf"
      },
      "execution_count": null,
      "outputs": [
        {
          "output_type": "stream",
          "name": "stdout",
          "text": [
            "32\n",
            "30\n",
            "28\n",
            "26\n",
            "24\n",
            "22\n",
            "20\n"
          ]
        }
      ]
    },
    {
      "cell_type": "code",
      "source": [
        "llista_1= [7, 5, 28, 0, 11, 12, 4]\n",
        "print(max(llista_1))\n",
        "print(\"_________________________________________________________________________________________________________________________________________________\")\n",
        "print(min(llista_1))\n",
        "print(\"            \")\n",
        "print(sum(llista_1))"
      ],
      "metadata": {
        "colab": {
          "base_uri": "https://localhost:8080/"
        },
        "id": "F7JteWafIFWj",
        "outputId": "c9f20b5f-fc59-446f-d5c4-d25d6a077de7"
      },
      "execution_count": null,
      "outputs": [
        {
          "output_type": "stream",
          "name": "stdout",
          "text": [
            "28\n",
            "_________________________________________________________________________________________________________________________________________________\n",
            "0\n",
            "            \n",
            "67\n"
          ]
        }
      ]
    },
    {
      "cell_type": "code",
      "source": [
        "setmana=(\"Dilluns\", \"Dimarts\", \"Dimecres\")\n",
        "for dia in setmana:\n",
        "  print(dia)\n",
        "\n",
        "print(\"S'ha acabat!\")"
      ],
      "metadata": {
        "colab": {
          "base_uri": "https://localhost:8080/"
        },
        "id": "kdHs4wH7JkZD",
        "outputId": "306bdd9d-ff7a-4a67-d9e2-f31faa12290a"
      },
      "execution_count": null,
      "outputs": [
        {
          "output_type": "stream",
          "name": "stdout",
          "text": [
            "Dilluns\n",
            "Dimarts\n",
            "Dimecres\n",
            "S'ha acabat!\n"
          ]
        }
      ]
    },
    {
      "cell_type": "code",
      "source": [
        "abecedario= [\"a\", \"b\", \"c\", \"d\", \"e\", \"f\", \"g\", \"h\", \"i\", \"j\", \"k\", \"l\" ,\"m\", \"n\", \"ñ\", \"o\", \"p\", \"q\", \"r\", \"s\", \"t\", \"u\", \"v\", \"w\", \"x\", \"y\", \"z\"]\n",
        "for letras in abecedario:\n",
        "  x=letras.upper() #Para poner en mayúscula\n",
        "  print(x)"
      ],
      "metadata": {
        "colab": {
          "base_uri": "https://localhost:8080/"
        },
        "id": "gTVdrPKBKpRa",
        "outputId": "177a4fa7-0471-4cce-a776-ed48dccb4ac1"
      },
      "execution_count": null,
      "outputs": [
        {
          "output_type": "stream",
          "name": "stdout",
          "text": [
            "A\n",
            "B\n",
            "C\n",
            "D\n",
            "E\n",
            "F\n",
            "G\n",
            "H\n",
            "I\n",
            "J\n",
            "K\n",
            "L\n",
            "M\n",
            "N\n",
            "Ñ\n",
            "O\n",
            "P\n",
            "Q\n",
            "R\n",
            "S\n",
            "T\n",
            "U\n",
            "V\n",
            "W\n",
            "X\n",
            "Y\n",
            "Z\n"
          ]
        }
      ]
    },
    {
      "cell_type": "code",
      "source": [
        "nombres= [1,4,6,3]\n",
        "nombres.sort() #Para ordenar\n",
        "print(nombres)"
      ],
      "metadata": {
        "colab": {
          "base_uri": "https://localhost:8080/"
        },
        "id": "r74XLUK9NBuX",
        "outputId": "ec015993-61c9-47cf-adc2-f79ba07e6cd9"
      },
      "execution_count": null,
      "outputs": [
        {
          "output_type": "stream",
          "name": "stdout",
          "text": [
            "[1, 3, 4, 6]\n"
          ]
        }
      ]
    },
    {
      "cell_type": "code",
      "source": [
        "salts= list(range(0, 28, +3)) #Para ir sumando y depende del último número va para delante o atrás. Después si pones más o menos te suma o resta\n",
        "\n",
        "print(salts)\n",
        "\n",
        "saltos_dos= list(range(32, 18, -2))\n",
        "\n",
        "print(saltos_dos)"
      ],
      "metadata": {
        "colab": {
          "base_uri": "https://localhost:8080/"
        },
        "id": "iKJaQmLvN13h",
        "outputId": "838be603-ab8e-4058-e1de-be3e6a23e573"
      },
      "execution_count": null,
      "outputs": [
        {
          "output_type": "stream",
          "name": "stdout",
          "text": [
            "[0, 3, 6, 9, 12, 15, 18, 21, 24, 27]\n",
            "[32, 30, 28, 26, 24, 22, 20]\n"
          ]
        }
      ]
    },
    {
      "cell_type": "code",
      "source": [
        "persones= [\"Roger\", \"Lidia\", \"Neus\", \"Marc\", \"Anna\", \"Arnau\", \"Hector\", \"Silvia\"]\n",
        "for noms in persones:\n",
        "  print(\"La persona es diu:\", (noms))"
      ],
      "metadata": {
        "colab": {
          "base_uri": "https://localhost:8080/",
          "height": 176
        },
        "id": "8CdR8h7FQG02",
        "outputId": "8811087d-5ed5-4818-cffc-384df9462e90"
      },
      "execution_count": null,
      "outputs": [
        {
          "output_type": "error",
          "ename": "TypeError",
          "evalue": "'list' object is not callable",
          "traceback": [
            "\u001b[0;31m---------------------------------------------------------------------------\u001b[0m",
            "\u001b[0;31mTypeError\u001b[0m                                 Traceback (most recent call last)",
            "\u001b[0;32m<ipython-input-11-840e11006ca1>\u001b[0m in \u001b[0;36m<cell line: 2>\u001b[0;34m()\u001b[0m\n\u001b[1;32m      1\u001b[0m \u001b[0mpersones\u001b[0m\u001b[0;34m=\u001b[0m \u001b[0;34m[\u001b[0m\u001b[0;34m\"Roger\"\u001b[0m\u001b[0;34m,\u001b[0m \u001b[0;34m\"Lidia\"\u001b[0m\u001b[0;34m,\u001b[0m \u001b[0;34m\"Neus\"\u001b[0m\u001b[0;34m,\u001b[0m \u001b[0;34m\"Marc\"\u001b[0m\u001b[0;34m,\u001b[0m \u001b[0;34m\"Anna\"\u001b[0m\u001b[0;34m,\u001b[0m \u001b[0;34m\"Arnau\"\u001b[0m\u001b[0;34m,\u001b[0m \u001b[0;34m\"Hector\"\u001b[0m\u001b[0;34m,\u001b[0m \u001b[0;34m\"Silvia\"\u001b[0m\u001b[0;34m]\u001b[0m\u001b[0;34m\u001b[0m\u001b[0;34m\u001b[0m\u001b[0m\n\u001b[1;32m      2\u001b[0m \u001b[0;32mfor\u001b[0m \u001b[0mnoms\u001b[0m \u001b[0;32min\u001b[0m \u001b[0mpersones\u001b[0m\u001b[0;34m:\u001b[0m\u001b[0;34m\u001b[0m\u001b[0;34m\u001b[0m\u001b[0m\n\u001b[0;32m----> 3\u001b[0;31m   \u001b[0mprint\u001b[0m\u001b[0;34m(\u001b[0m\u001b[0;34m\"La persona es diu:\"\u001b[0m\u001b[0;34m,\u001b[0m \u001b[0;34m(\u001b[0m\u001b[0mnoms\u001b[0m\u001b[0;34m)\u001b[0m\u001b[0;34m)\u001b[0m\u001b[0;34m\u001b[0m\u001b[0;34m\u001b[0m\u001b[0m\n\u001b[0m",
            "\u001b[0;31mTypeError\u001b[0m: 'list' object is not callable"
          ]
        }
      ]
    }
  ]
}