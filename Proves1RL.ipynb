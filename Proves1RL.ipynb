{
  "nbformat": 4,
  "nbformat_minor": 0,
  "metadata": {
    "colab": {
      "provenance": [],
      "authorship_tag": "ABX9TyNypIxtKkbs2zhy56vvEBw4",
      "include_colab_link": true
    },
    "kernelspec": {
      "name": "python3",
      "display_name": "Python 3"
    },
    "language_info": {
      "name": "python"
    }
  },
  "cells": [
    {
      "cell_type": "markdown",
      "metadata": {
        "id": "view-in-github",
        "colab_type": "text"
      },
      "source": [
        "<a href=\"https://colab.research.google.com/github/rlopezortega/Programacion/blob/main/Proves1RL.ipynb\" target=\"_parent\"><img src=\"https://colab.research.google.com/assets/colab-badge.svg\" alt=\"Open In Colab\"/></a>"
      ]
    },
    {
      "cell_type": "code",
      "execution_count": null,
      "metadata": {
        "colab": {
          "base_uri": "https://localhost:8080/"
        },
        "id": "8K5GiQaAjxqa",
        "outputId": "7ef1a4ff-f6f5-4945-8056-be43911e5340"
      },
      "outputs": [
        {
          "output_type": "stream",
          "name": "stdout",
          "text": [
            "6240\n"
          ]
        }
      ],
      "source": [
        "total_de_cuines=48\n",
        "una_cuina=93\n",
        "transport_per_cuina=37\n",
        "print(total_de_cuines*(una_cuina+transport_per_cuina))"
      ]
    },
    {
      "cell_type": "code",
      "source": [
        "primera_guardiola=120\n",
        "segona_guardiola=215\n",
        "tercera_guardiola=163\n",
        "total_persones=6\n",
        "print((primera_guardiola+segona_guardiola+tercera_guardiola)/total_persones)"
      ],
      "metadata": {
        "colab": {
          "base_uri": "https://localhost:8080/"
        },
        "id": "puOp1Ij0nsMj",
        "outputId": "4f8c6929-fa8a-445e-d386-17642958976a"
      },
      "execution_count": null,
      "outputs": [
        {
          "output_type": "stream",
          "name": "stdout",
          "text": [
            "83.0\n"
          ]
        }
      ]
    },
    {
      "cell_type": "code",
      "source": [
        "castanyes_torrades=250\n",
        "una_dotzena=12\n",
        "total_de_dotzenes=17\n",
        "castanyes_cremades=9\n",
        "print(castanyes_torrades-(castanyes_cremades+total_de_dotzenes*una_dotzena))"
      ],
      "metadata": {
        "id": "yWi_l4SbpAJQ",
        "colab": {
          "base_uri": "https://localhost:8080/"
        },
        "outputId": "eaf14cd7-3486-46fa-f331-d8835bc0295a"
      },
      "execution_count": null,
      "outputs": [
        {
          "output_type": "stream",
          "name": "stdout",
          "text": [
            "37\n"
          ]
        }
      ]
    },
    {
      "cell_type": "code",
      "source": [],
      "metadata": {
        "id": "vqaiRdlctS_y"
      },
      "execution_count": null,
      "outputs": []
    }
  ]
}