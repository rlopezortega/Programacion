{
  "nbformat": 4,
  "nbformat_minor": 0,
  "metadata": {
    "colab": {
      "provenance": [],
      "authorship_tag": "ABX9TyPEzu0NtF9znTUTKfJ7ZpP0",
      "include_colab_link": true
    },
    "kernelspec": {
      "name": "python3",
      "display_name": "Python 3"
    },
    "language_info": {
      "name": "python"
    }
  },
  "cells": [
    {
      "cell_type": "markdown",
      "metadata": {
        "id": "view-in-github",
        "colab_type": "text"
      },
      "source": [
        "<a href=\"https://colab.research.google.com/github/rlopezortega/Programacion/blob/main/Proves1RL.ipynb\" target=\"_parent\"><img src=\"https://colab.research.google.com/assets/colab-badge.svg\" alt=\"Open In Colab\"/></a>"
      ]
    },
    {
      "cell_type": "code",
      "execution_count": null,
      "metadata": {
        "colab": {
          "base_uri": "https://localhost:8080/"
        },
        "id": "8K5GiQaAjxqa",
        "outputId": "7ef1a4ff-f6f5-4945-8056-be43911e5340"
      },
      "outputs": [
        {
          "output_type": "stream",
          "name": "stdout",
          "text": [
            "6240\n"
          ]
        }
      ],
      "source": [
        "total_de_cuines=48\n",
        "una_cuina=93\n",
        "transport_per_cuina=37\n",
        "print(total_de_cuines*(una_cuina+transport_per_cuina))"
      ]
    },
    {
      "cell_type": "code",
      "source": [
        "primera_guardiola=120\n",
        "segona_guardiola=215\n",
        "tercera_guardiola=163\n",
        "total_persones=6\n",
        "print((primera_guardiola+segona_guardiola+tercera_guardiola)/total_persones)"
      ],
      "metadata": {
        "colab": {
          "base_uri": "https://localhost:8080/"
        },
        "id": "puOp1Ij0nsMj",
        "outputId": "4f8c6929-fa8a-445e-d386-17642958976a"
      },
      "execution_count": null,
      "outputs": [
        {
          "output_type": "stream",
          "name": "stdout",
          "text": [
            "83.0\n"
          ]
        }
      ]
    },
    {
      "cell_type": "code",
      "source": [
        "castanyes_torrades=250\n",
        "una_dotzena=12\n",
        "total_de_dotzenes=17\n",
        "castanyes_cremades=9\n",
        "print(castanyes_torrades-(castanyes_cremades+total_de_dotzenes*una_dotzena))"
      ],
      "metadata": {
        "id": "yWi_l4SbpAJQ",
        "colab": {
          "base_uri": "https://localhost:8080/"
        },
        "outputId": "eaf14cd7-3486-46fa-f331-d8835bc0295a"
      },
      "execution_count": null,
      "outputs": [
        {
          "output_type": "stream",
          "name": "stdout",
          "text": [
            "37\n"
          ]
        }
      ]
    },
    {
      "cell_type": "code",
      "source": [
        "Guanya=2850\n",
        "És_guarda=700\n",
        "Total_vaques=5\n",
        "print((Guanya-És_guarda)/Total_vaques)"
      ],
      "metadata": {
        "colab": {
          "base_uri": "https://localhost:8080/"
        },
        "id": "y2InKrJbrUgo",
        "outputId": "94915b17-73b7-4ccc-ab85-b5924bc7ff0e"
      },
      "execution_count": 4,
      "outputs": [
        {
          "output_type": "stream",
          "name": "stdout",
          "text": [
            "430.0\n"
          ]
        }
      ]
    },
    {
      "cell_type": "code",
      "source": [
        "Estalvis=275\n",
        "Billet=10\n",
        "Monedes=2\n",
        "Total_monedes=3\n",
        "print(Estalvis+Billet+(Monedes*Total_monedes))"
      ],
      "metadata": {
        "colab": {
          "base_uri": "https://localhost:8080/"
        },
        "id": "C2SrP6KYtVHk",
        "outputId": "15ef2c33-4c9d-44f5-b459-820a1991176d"
      },
      "execution_count": 7,
      "outputs": [
        {
          "output_type": "stream",
          "name": "stdout",
          "text": [
            "291\n"
          ]
        }
      ]
    },
    {
      "cell_type": "code",
      "source": [
        "Falten=26625\n",
        "Cost_casa=98370\n",
        "print(Cost_casa-Falten)"
      ],
      "metadata": {
        "colab": {
          "base_uri": "https://localhost:8080/"
        },
        "id": "4HFU82QJuN8-",
        "outputId": "8892d05a-841c-4456-af34-f2963477723b"
      },
      "execution_count": 8,
      "outputs": [
        {
          "output_type": "stream",
          "name": "stdout",
          "text": [
            "71745\n"
          ]
        }
      ]
    },
    {
      "cell_type": "code",
      "source": [
        "Pes_dos_revistes=432\n",
        "Total_rotuladors=5\n",
        "print(Pes_dos_revistes/Total_rotuladors)"
      ],
      "metadata": {
        "colab": {
          "base_uri": "https://localhost:8080/"
        },
        "id": "q27OKW4Bupc8",
        "outputId": "4c1f97e3-8d76-4794-8ebb-1ca7e340ff8f"
      },
      "execution_count": 9,
      "outputs": [
        {
          "output_type": "stream",
          "name": "stdout",
          "text": [
            "86.4\n"
          ]
        }
      ]
    },
    {
      "cell_type": "code",
      "source": [
        "Primera_font=86\n",
        "Segona_font=74\n",
        "Tercera_font=132\n",
        "Minuts_en_una_hora=60\n",
        "print((Primera_font*Minuts_en_una_hora)+(Segona_font+Minuts_en_una_hora)+(Tercera_font*Minuts_en_una_hora))"
      ],
      "metadata": {
        "colab": {
          "base_uri": "https://localhost:8080/"
        },
        "id": "eymhwQzovd4w",
        "outputId": "5a6b132c-0768-4d12-d2d3-7f9bc651c4c2"
      },
      "execution_count": 10,
      "outputs": [
        {
          "output_type": "stream",
          "name": "stdout",
          "text": [
            "13214\n"
          ]
        }
      ]
    },
    {
      "cell_type": "code",
      "source": [
        "Un_terraire=301\n",
        "Una_caixa=7\n",
        "print(Un_terraire/Una_caixa)"
      ],
      "metadata": {
        "colab": {
          "base_uri": "https://localhost:8080/"
        },
        "id": "bLK564pSwfoS",
        "outputId": "43bf64b2-f818-4ed3-b877-c5f0f318a9a6"
      },
      "execution_count": 11,
      "outputs": [
        {
          "output_type": "stream",
          "name": "stdout",
          "text": [
            "43.0\n"
          ]
        }
      ]
    },
    {
      "cell_type": "code",
      "source": [
        "Un_vaixell=175\n",
        "Un_submarí=56\n",
        "Total_de_vaixells=14\n",
        "Total_de_submarins=6\n",
        "print((Un_vaixell*Total_de_vaixells)+(Un_submarí*Total_de_submarins))"
      ],
      "metadata": {
        "colab": {
          "base_uri": "https://localhost:8080/"
        },
        "id": "QJOr2Qkkw3_2",
        "outputId": "698fd1b4-5df7-405f-d32f-40ccb23394d2"
      },
      "execution_count": 12,
      "outputs": [
        {
          "output_type": "stream",
          "name": "stdout",
          "text": [
            "2786\n"
          ]
        }
      ]
    }
  ]
}