{
  "nbformat": 4,
  "nbformat_minor": 0,
  "metadata": {
    "colab": {
      "provenance": [],
      "authorship_tag": "ABX9TyMO5Rr6zT7C4gXMxUEfOP8c",
      "include_colab_link": true
    },
    "kernelspec": {
      "name": "python3",
      "display_name": "Python 3"
    },
    "language_info": {
      "name": "python"
    }
  },
  "cells": [
    {
      "cell_type": "markdown",
      "metadata": {
        "id": "view-in-github",
        "colab_type": "text"
      },
      "source": [
        "<a href=\"https://colab.research.google.com/github/rlopezortega/Programacion/blob/main/Examen2.ipynb\" target=\"_parent\"><img src=\"https://colab.research.google.com/assets/colab-badge.svg\" alt=\"Open In Colab\"/></a>"
      ]
    },
    {
      "cell_type": "markdown",
      "source": [
        "**Exercici 1**"
      ],
      "metadata": {
        "id": "wGemrSClFi7K"
      }
    },
    {
      "cell_type": "markdown",
      "source": [
        "1."
      ],
      "metadata": {
        "id": "mbT0Vj0oFscc"
      }
    },
    {
      "cell_type": "code",
      "execution_count": null,
      "metadata": {
        "colab": {
          "base_uri": "https://localhost:8080/"
        },
        "id": "fh7jVOdEFGI5",
        "outputId": "7881f726-03a2-446b-8c4e-eda3bbef1c9f"
      },
      "outputs": [
        {
          "output_type": "stream",
          "name": "stdout",
          "text": [
            "['Elisenda', 'Marc', 'Aina', 'Eloi', 'Ulises', 'Sara', 'Josep', 'Júlia', 'Roser', 'Kai']\n"
          ]
        }
      ],
      "source": [
        "llista=[\"Elisenda\", \"Marc\", \"Aina\", \"Eloi\", \"Ulises\", \"Sara\", \"Josep\", \"Júlia\", \"Roser\", \"Kai\"]\n",
        "print(llista)"
      ]
    },
    {
      "cell_type": "markdown",
      "source": [
        "2."
      ],
      "metadata": {
        "id": "-yEHJ3dAGRYP"
      }
    },
    {
      "cell_type": "code",
      "source": [
        "iter=0\n",
        "llista=[\"Elisenda\", \"Marc\", \"Aina\", \"Eloi\", \"Ulises\", \"Sara\", \"Josep\", \"Júlia\", \"Roser\", \"Kai\"]\n",
        "for nom in llista:\n",
        "  iter=iter+1\n",
        "  print(\"La persona s'anomena\", nom)"
      ],
      "metadata": {
        "colab": {
          "base_uri": "https://localhost:8080/"
        },
        "id": "BH7nUZ8lGSY8",
        "outputId": "200df292-30d3-403e-f42f-c036b78f7ef7"
      },
      "execution_count": null,
      "outputs": [
        {
          "output_type": "stream",
          "name": "stdout",
          "text": [
            "La persona s'anomena Elisenda\n",
            "La persona s'anomena Marc\n",
            "La persona s'anomena Aina\n",
            "La persona s'anomena Eloi\n",
            "La persona s'anomena Ulises\n",
            "La persona s'anomena Sara\n",
            "La persona s'anomena Josep\n",
            "La persona s'anomena Júlia\n",
            "La persona s'anomena Roser\n",
            "La persona s'anomena Kai\n"
          ]
        }
      ]
    },
    {
      "cell_type": "markdown",
      "source": [
        "3."
      ],
      "metadata": {
        "id": "Fiz6iHuOHU_6"
      }
    },
    {
      "cell_type": "code",
      "source": [
        "llista=[\"Elisenda\", \"Marc\", \"Aina\", \"Eloi\", \"Ulises\", \"Sara\", \"Josep\", \"Júlia\", \"Roser\", \"Kai\"]\n",
        "\n",
        "llista.remove(\"Ulises\")\n",
        "llista.remove(\"Kai\")\n",
        "print(llista)"
      ],
      "metadata": {
        "colab": {
          "base_uri": "https://localhost:8080/"
        },
        "id": "J6FylV7GHVzj",
        "outputId": "f7833928-825e-4d7b-d19d-c336e40c8af5"
      },
      "execution_count": null,
      "outputs": [
        {
          "output_type": "stream",
          "name": "stdout",
          "text": [
            "['Elisenda', 'Marc', 'Aina', 'Eloi', 'Sara', 'Josep', 'Júlia', 'Roser']\n"
          ]
        }
      ]
    },
    {
      "cell_type": "markdown",
      "source": [
        "4."
      ],
      "metadata": {
        "id": "8DgPPutqH8_J"
      }
    },
    {
      "cell_type": "code",
      "source": [
        "llista=[\"Elisenda\", \"Marc\", \"Aina\", \"Eloi\", \"Sara\", \"Josep\", \"Júlia\", \"Roser\"]\n",
        "len(llista)"
      ],
      "metadata": {
        "colab": {
          "base_uri": "https://localhost:8080/"
        },
        "id": "Klqlko6JH96k",
        "outputId": "547a619e-cce4-44c7-ec4e-b443a5a9a005"
      },
      "execution_count": null,
      "outputs": [
        {
          "output_type": "execute_result",
          "data": {
            "text/plain": [
              "8"
            ]
          },
          "metadata": {},
          "execution_count": 6
        }
      ]
    },
    {
      "cell_type": "markdown",
      "source": [
        "5."
      ],
      "metadata": {
        "id": "85gHEIRTJDm1"
      }
    },
    {
      "cell_type": "code",
      "source": [
        "llista=[\"Elisenda\", \"Marc\", \"Aina\", \"Eloi\", \"Sara\", \"Josep\", \"Júlia\", \"Roser\"]\n",
        "llista2=\"\".join(llista)\n",
        "print(llista2)\n",
        "llista3=str.upper(llista2)\n",
        "print(llista3)\n",
        "llista2.count(\"a\")\n",
        "print(llista2.count(\"A\"))\n",
        "print(llista2.count(\"a\"))\n",
        "print(llista3.count(\"a\"))\n",
        "print(llista3.count(\"A\"))"
      ],
      "metadata": {
        "colab": {
          "base_uri": "https://localhost:8080/"
        },
        "id": "qepo69cCJErY",
        "outputId": "debd2c18-d4be-4a6b-e232-0a14c6af35f4"
      },
      "execution_count": null,
      "outputs": [
        {
          "output_type": "stream",
          "name": "stdout",
          "text": [
            "ElisendaMarcAinaEloiSaraJosepJúliaRoser\n",
            "ELISENDAMARCAINAELOISARAJOSEPJÚLIAROSER\n",
            "1\n",
            "6\n",
            "0\n",
            "7\n"
          ]
        }
      ]
    },
    {
      "cell_type": "markdown",
      "source": [
        "6."
      ],
      "metadata": {
        "id": "SgatoSudKPbb"
      }
    },
    {
      "cell_type": "code",
      "source": [
        "llista=[\"Elisenda\", \"Marc\", \"Aina\", \"Eloi\", \"Sara\", \"Josep\", \"Júlia\", \"Roser\"]\n",
        "llista2=\"\".join(llista)\n",
        "print(llista2)\n",
        "llista3=str.upper(llista2)\n",
        "print(llista3)\n",
        "llista2.count(\"`\")\n",
        "print(llista2.count(\"´\"))\n",
        "print(llista2.count(\"`\"))\n",
        "print(llista3.count(\"`\"))\n",
        "print(llista3.count(\"´\"))"
      ],
      "metadata": {
        "colab": {
          "base_uri": "https://localhost:8080/"
        },
        "id": "ArL0va8yKQa9",
        "outputId": "8bf0cae4-ce8f-4fa0-8941-76911ff00c0a"
      },
      "execution_count": null,
      "outputs": [
        {
          "output_type": "stream",
          "name": "stdout",
          "text": [
            "ElisendaMarcAinaEloiSaraJosepJúliaRoser\n",
            "ELISENDAMARCAINAELOISARAJOSEPJÚLIAROSER\n",
            "0\n",
            "0\n",
            "0\n",
            "0\n"
          ]
        }
      ]
    },
    {
      "cell_type": "markdown",
      "source": [
        "7."
      ],
      "metadata": {
        "id": "vpIOk6HSK0P0"
      }
    },
    {
      "cell_type": "code",
      "source": [
        "llista=[\"Elisenda\", \"Marc\", \"Aina\", \"Eloi\", \"Sara\", \"Josep\", \"Júlia\", \"Roser\"]\n",
        "llista.append(\"Sara\")\n",
        "print(llista)"
      ],
      "metadata": {
        "colab": {
          "base_uri": "https://localhost:8080/"
        },
        "id": "sb3dS_YYK1iB",
        "outputId": "b3f58a8f-f2a6-4b9d-eb13-53976e10d481"
      },
      "execution_count": null,
      "outputs": [
        {
          "output_type": "stream",
          "name": "stdout",
          "text": [
            "['Elisenda', 'Marc', 'Aina', 'Eloi', 'Sara', 'Josep', 'Júlia', 'Roser', 'Sara']\n"
          ]
        }
      ]
    },
    {
      "cell_type": "markdown",
      "source": [
        "8."
      ],
      "metadata": {
        "id": "FqgNT4_XLQoo"
      }
    },
    {
      "cell_type": "code",
      "source": [
        "llista=[\"Elisenda\", \"Marc\", \"Aina\", \"Eloi\", \"Sara\", \"Josep\", \"Júlia\", \"Roser\"]\n",
        "llista.insert(2, \"Vicent\")\n",
        "print(llista)\n"
      ],
      "metadata": {
        "colab": {
          "base_uri": "https://localhost:8080/"
        },
        "id": "c7P9qIp3LRX_",
        "outputId": "234ff371-a79b-4e55-e46c-613ed660ca52"
      },
      "execution_count": null,
      "outputs": [
        {
          "output_type": "stream",
          "name": "stdout",
          "text": [
            "['Elisenda', 'Marc', 'Vicent', 'Aina', 'Eloi', 'Sara', 'Josep', 'Júlia', 'Roser']\n"
          ]
        }
      ]
    },
    {
      "cell_type": "markdown",
      "source": [
        "**Exercici 2**"
      ],
      "metadata": {
        "id": "3wcYCvuEL0jl"
      }
    },
    {
      "cell_type": "markdown",
      "source": [
        "9."
      ],
      "metadata": {
        "id": "aORWKN80L5TI"
      }
    },
    {
      "cell_type": "code",
      "source": [],
      "metadata": {
        "id": "11g-GvzZL8yd"
      },
      "execution_count": null,
      "outputs": []
    },
    {
      "cell_type": "markdown",
      "source": [
        "**Exercici 3**"
      ],
      "metadata": {
        "id": "U26h3LWMM5Bs"
      }
    },
    {
      "cell_type": "markdown",
      "source": [
        "10."
      ],
      "metadata": {
        "id": "dJxFionkM9nC"
      }
    },
    {
      "cell_type": "code",
      "source": [
        "x = float(input(\"Quin tipus de funció és?\"))\n",
        "if (x%2==0):\n",
        "  print(\"Cal que el valor sigui float\")\n",
        "else:\n",
        "  print(\"Cal que el valor sigui string\")"
      ],
      "metadata": {
        "colab": {
          "base_uri": "https://localhost:8080/"
        },
        "id": "HWONZX0TM-sy",
        "outputId": "d884cf01-3bd5-4431-c5e1-0684bb0b49df"
      },
      "execution_count": null,
      "outputs": [
        {
          "output_type": "stream",
          "name": "stdout",
          "text": [
            "Quin tipus de funció és?5\n",
            "Cal que el valor sigui string\n"
          ]
        }
      ]
    },
    {
      "cell_type": "markdown",
      "source": [
        "11."
      ],
      "metadata": {
        "id": "rDsNFqOPOLGZ"
      }
    },
    {
      "cell_type": "code",
      "source": [
        "y = float(input(\"Quin tipus de funció és?\"))\n",
        "if (y%2==0):\n",
        "  print(\"Cal que el valor sigui float\")\n",
        "else:\n",
        "  print(\"Cal que el valor sigui sprint\")"
      ],
      "metadata": {
        "colab": {
          "base_uri": "https://localhost:8080/",
          "height": 228
        },
        "id": "yU2pOVuHOL8d",
        "outputId": "20b46527-c1c4-4d9f-9688-37a105d61a81"
      },
      "execution_count": null,
      "outputs": [
        {
          "name": "stdout",
          "output_type": "stream",
          "text": [
            "Quin tipus de funció és?a\n"
          ]
        },
        {
          "output_type": "error",
          "ename": "ValueError",
          "evalue": "could not convert string to float: 'a'",
          "traceback": [
            "\u001b[0;31m---------------------------------------------------------------------------\u001b[0m",
            "\u001b[0;31mValueError\u001b[0m                                Traceback (most recent call last)",
            "\u001b[0;32m<ipython-input-24-a8f8c2160f15>\u001b[0m in \u001b[0;36m<cell line: 1>\u001b[0;34m()\u001b[0m\n\u001b[0;32m----> 1\u001b[0;31m \u001b[0my\u001b[0m \u001b[0;34m=\u001b[0m \u001b[0mfloat\u001b[0m\u001b[0;34m(\u001b[0m\u001b[0minput\u001b[0m\u001b[0;34m(\u001b[0m\u001b[0;34m\"Quin tipus de funció és?\"\u001b[0m\u001b[0;34m)\u001b[0m\u001b[0;34m)\u001b[0m\u001b[0;34m\u001b[0m\u001b[0;34m\u001b[0m\u001b[0m\n\u001b[0m\u001b[1;32m      2\u001b[0m \u001b[0;32mif\u001b[0m \u001b[0;34m(\u001b[0m\u001b[0my\u001b[0m\u001b[0;34m%\u001b[0m\u001b[0ma\u001b[0m\u001b[0;34m==\u001b[0m\u001b[0mz\u001b[0m\u001b[0;34m)\u001b[0m\u001b[0;34m:\u001b[0m\u001b[0;34m\u001b[0m\u001b[0;34m\u001b[0m\u001b[0m\n\u001b[1;32m      3\u001b[0m   \u001b[0mprint\u001b[0m\u001b[0;34m(\u001b[0m\u001b[0;34m\"Cal que el valor sigui string\"\u001b[0m\u001b[0;34m)\u001b[0m\u001b[0;34m\u001b[0m\u001b[0;34m\u001b[0m\u001b[0m\n\u001b[1;32m      4\u001b[0m \u001b[0;32melse\u001b[0m\u001b[0;34m:\u001b[0m\u001b[0;34m\u001b[0m\u001b[0;34m\u001b[0m\u001b[0m\n\u001b[1;32m      5\u001b[0m   \u001b[0mprint\u001b[0m\u001b[0;34m(\u001b[0m\u001b[0;34m\"Cal que el valor sigui float\"\u001b[0m\u001b[0;34m)\u001b[0m\u001b[0;34m\u001b[0m\u001b[0;34m\u001b[0m\u001b[0m\n",
            "\u001b[0;31mValueError\u001b[0m: could not convert string to float: 'a'"
          ]
        }
      ]
    }
  ]
}