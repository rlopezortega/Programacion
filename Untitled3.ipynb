{
  "nbformat": 4,
  "nbformat_minor": 0,
  "metadata": {
    "colab": {
      "provenance": [],
      "authorship_tag": "ABX9TyOUC2a4gKGHVw/GJKTQvpb7",
      "include_colab_link": true
    },
    "kernelspec": {
      "name": "python3",
      "display_name": "Python 3"
    },
    "language_info": {
      "name": "python"
    }
  },
  "cells": [
    {
      "cell_type": "markdown",
      "metadata": {
        "id": "view-in-github",
        "colab_type": "text"
      },
      "source": [
        "<a href=\"https://colab.research.google.com/github/rlopezortega/Programacion/blob/main/Untitled3.ipynb\" target=\"_parent\"><img src=\"https://colab.research.google.com/assets/colab-badge.svg\" alt=\"Open In Colab\"/></a>"
      ]
    },
    {
      "cell_type": "markdown",
      "source": [
        "Pregunta-li a la variable mitjançant el type, quin tipus de funció és.\n",
        "Un cop li hagis preguntat, si la resposta és un número sencer cal que sigui: \"Escriu el nombre amb un número no sencer o decimal\", sinó caldrà que imprimeixi el valor nines.\n",
        "Fes un diagrama de flux per a parlar de la compra de llibres, punts de llibre i portallibres, tenint en compte que el preu de tots els llibres són 5€, els punts de llibres 1,5€ i els portallibres 10€"
      ],
      "metadata": {
        "id": "w94gi6EZxef0"
      }
    },
    {
      "cell_type": "code",
      "execution_count": null,
      "metadata": {
        "colab": {
          "base_uri": "https://localhost:8080/"
        },
        "id": "Nm5qUsBuuFWL",
        "outputId": "bd858803-0968-48b4-8564-dbe617682905"
      },
      "outputs": [
        {
          "output_type": "stream",
          "name": "stdout",
          "text": [
            "Quants llibres compres?5\n",
            "Quants punts de llibres compres?8\n",
            "Quants portallibres llibres compres?4\n",
            "El preu final serà 77.0\n"
          ]
        }
      ],
      "source": [
        "llibres = float(input(\"Quants llibres compres?\"))   #Per preguntar alguna cosa i que es pugi respondre\n",
        "punts_de_llibre = float(input(\"Quants punts de llibres compres?\"))\n",
        "portallibres = float(input(\"Quants portallibres llibres compres?\"))\n",
        "\n",
        "preu = ((llibres*5) + (punts_de_llibre*1.5) + (portallibres*10))  #Calcul de les respostes que s'ha dit abans i el preu que s'ha posat\n",
        "if (preu%2==0): #necesitas que este resultado sea con decimal\n",
        "  print(\"Cal que el valor sigui float\") #el float se refiere a un numero con decimal, entonces aqui se refiere a que el resultado de arriba sea con decimal\n",
        "else:\n",
        "  print(\"El preu final serà\", preu) #El preu sorti amb una frase\n"
      ]
    }
  ]
}